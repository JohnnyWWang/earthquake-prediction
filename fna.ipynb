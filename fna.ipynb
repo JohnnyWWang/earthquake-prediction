{
 "cells": [
  {
   "cell_type": "code",
   "execution_count": 1,
   "metadata": {
    "id": "sOyDnTvq3DCS"
   },
   "outputs": [],
   "source": [
    "import pandas as pd\n",
    "import math\n",
    "from sklearn.cluster import MiniBatchKMeans\n",
    "import time\n",
    "import matplotlib.pyplot as plt\n",
    "from tqdm.notebook import tqdm\n",
    "import sys\n",
    "import warnings\n",
    "warnings.filterwarnings('ignore')\n",
    "import numpy as np"
   ]
  },
  {
   "cell_type": "code",
   "execution_count": 2,
   "metadata": {
    "id": "VPFDcEzf3YPn"
   },
   "outputs": [],
   "source": [
    "path_earthquake = './data_earthquake.csv'\n",
    "path_well = './total_pro.csv'\n",
    "data_earthquake = pd.read_csv(path_earthquake)\n",
    "data_well = pd.read_csv(path_well)"
   ]
  },
  {
   "cell_type": "code",
   "execution_count": 3,
   "metadata": {
    "id": "9SjSLpzxFaFD"
   },
   "outputs": [],
   "source": [
    "data_earthquake = data_earthquake[['#YYY/MM/DD','MAGNITUDE','LAT','LON','DEPTH']]\n",
    "data_earthquake.columns = ['Date','Magnitude','Latitude','Longitude','Depth']"
   ]
  },
  {
   "cell_type": "code",
   "execution_count": 4,
   "metadata": {
    "id": "3wgmtayIFan3"
   },
   "outputs": [],
   "source": [
    "data_earthquake.loc[:,'Date'] = pd.to_datetime(data_earthquake['Date'],format = '%Y/%m/%d')\n",
    "data_earthquake = data_earthquake[['Date','Magnitude','Latitude','Longitude','Depth']]"
   ]
  },
  {
   "cell_type": "code",
   "execution_count": 5,
   "metadata": {
    "id": "9ncwrnVTFfV_"
   },
   "outputs": [],
   "source": [
    "def timeChangeForEarthquake(data_earthquake):\n",
    "    dataSet = data_earthquake\n",
    "    dataSet.loc[:,'Date'] = pd.to_datetime(dataSet['Date'],format = '%Y/%m/%d')\n",
    "    dataSet.loc[:,'Year'] = dataSet['Date'].dt.strftime('%Y')\n",
    "    dataSet['Year'] = dataSet['Year'].astype('int')\n",
    "    dataSet.loc[:,'Month'] = dataSet['Date'].dt.strftime('%m')\n",
    "    dataSet['Month'] = dataSet['Month'].astype('int')\n",
    "    dataSet['Time'] = 12*(dataSet['Year']-1930) + (dataSet['Month'] - 1)\n",
    "    return dataSet[['Date','Latitude','Longitude','Magnitude','Time','Depth']]\n",
    "\n",
    "def timeChangeForWell(data_well):\n",
    "    dataSet = data_well\n",
    "    dataSet.loc[:,'Date'] = pd.to_datetime(dataSet['Date'],format = '%Y/%m/%d')\n",
    "    dataSet.loc[:,'Year'] = dataSet['Date'].dt.strftime('%Y')\n",
    "    dataSet['Year'] = dataSet['Year'].astype('int')\n",
    "    dataSet.loc[:,'Month'] = dataSet['Date'].dt.strftime('%m')\n",
    "    dataSet['Month'] = dataSet['Month'].astype('int')\n",
    "    dataSet['Time'] = 12*(dataSet['Year']-1930) + (dataSet['Month'] - 1)\n",
    "    return dataSet[['Date','Latitude','Longitude','Production (bbl)','Time']]"
   ]
  },
  {
   "cell_type": "code",
   "execution_count": 6,
   "metadata": {
    "id": "y5uzLg4DFhS3"
   },
   "outputs": [],
   "source": [
    "dw = timeChangeForWell(data_well)\n",
    "de = timeChangeForEarthquake(data_earthquake)\n",
    "\n",
    "dw = dw[['Latitude', 'Longitude', 'Production (bbl)', 'Time']]\n",
    "de = de[de['Time'] >= 564].reset_index()\n",
    "de = de[['Latitude', 'Longitude', 'Magnitude', 'Depth', 'Time']]"
   ]
  },
  {
   "cell_type": "code",
   "execution_count": 7,
   "metadata": {
    "colab": {
     "base_uri": "https://localhost:8080/"
    },
    "id": "Ko7XmTEbFuVj",
    "outputId": "3ea9e85c-4b97-4377-b25d-6109c1e8dacb"
   },
   "outputs": [
    {
     "name": "stdout",
     "output_type": "stream",
     "text": [
      "The running time of upscaling for well data is 3.5413658618927s\n"
     ]
    }
   ],
   "source": [
    "def upscaleWell(k,data):\n",
    "    location = data[['Latitude','Longitude']]\n",
    "    model = MiniBatchKMeans(n_clusters = k, random_state=9)\n",
    "    model.fit(location)\n",
    "    r1 = pd.DataFrame(model.cluster_centers_)\n",
    "    r = pd.concat([data, pd.Series(model.labels_, index = location.index)], axis = 1)  \n",
    "    m = r.rename(columns = {0:'label_cluster'})\n",
    "    \n",
    "    for i in range(k):\n",
    "        r.loc[r[0]==i,'Latitude'] = r1.at[i,0]\n",
    "        r.loc[r[0]==i,'Longitude'] = r1.at[i,1]\n",
    "    \n",
    "    f = r.rename(columns = {0:'label_cluster'}).groupby(['Time','Latitude','Longitude','label_cluster']).agg('sum').reset_index()\n",
    "    return r1,m,f\n",
    "\n",
    "if __name__ == '__main__':\n",
    "    t1 = time.time()\n",
    "    k_well = 50\n",
    "    p1,p2,p3 = upscaleWell(k_well, dw)\n",
    "    t2 = time.time()\n",
    "    print('The running time of upscaling for well data is {:0}s'.format(t2-t1))"
   ]
  },
  {
   "cell_type": "code",
   "execution_count": 8,
   "metadata": {
    "colab": {
     "base_uri": "https://localhost:8080/",
     "height": 638,
     "referenced_widgets": [
      "60fbc5caddc444c5bbccfbc5ebd648d5",
      "07cdfe4d1a414ba8a74392dadb2e0f96",
      "db8fd8c17d6d449f96e8998aab231518",
      "b8b8ff28f0004a71ac001287d00eee6a",
      "3490d923c8ab4dd3ad479511b519fdc5",
      "bac6f8bd79df465db1923ba94c36520d",
      "1594806160a8497397a44ac78ac33c0b",
      "aef05d31b0ac407fa7e060da92a61577",
      "e62e060fb952428498a0d85c635dcc96",
      "f6edc692af974ecb8a023862e24ecffb",
      "ce32f05d04bc4a429958e7c3f478c16f"
     ]
    },
    "id": "kafKYVVGFxtG",
    "outputId": "2a579549-2ffc-4dec-80d1-a0d91f974a66",
    "tags": []
   },
   "outputs": [
    {
     "data": {
      "application/vnd.jupyter.widget-view+json": {
       "model_id": "9d696d76f89d4c439aac0a12e9fccc85",
       "version_major": 2,
       "version_minor": 0
      },
      "text/plain": [
       "  0%|          | 0/50 [00:00<?, ?it/s]"
      ]
     },
     "metadata": {},
     "output_type": "display_data"
    },
    {
     "data": {
      "image/png": "[encoded data removed]",
      "text/plain": [
       "<Figure size 720x720 with 1 Axes>"
      ]
     },
     "metadata": {
      "needs_background": "light"
     },
     "output_type": "display_data"
    }
   ],
   "source": [
    "fig,ax = plt.subplots(figsize=(10,10))\n",
    "for i in tqdm(p3['label_cluster'].value_counts().keys().tolist()):\n",
    "    plt.scatter(p2[p2['label_cluster'] == i].loc[:, 'Longitude'], p2[p2['label_cluster'] == i].loc[:, 'Latitude'])\n",
    "plt.xlabel('Longitude')\n",
    "plt.ylabel('Latitude')\n",
    "plt.grid()\n",
    "plt.show()"
   ]
  },
  {
   "cell_type": "code",
   "execution_count": 9,
   "metadata": {
    "id": "NFCJuQS-FzE4"
   },
   "outputs": [],
   "source": [
    "def influenceRadius(data_well):\n",
    "    max_radius = 10\n",
    "    min_radius = 1\n",
    "    dataSet = data_well\n",
    "    dataSet.loc[:, 'influence (km)'] = (max_radius - min_radius) * (abs(dataSet.loc[:,'Production (bbl)']) - min(abs(dataSet.loc[:,'Production (bbl)']))) / (max(abs(dataSet.loc[:,'Production (bbl)'])) - min(abs(dataSet.loc[:,'Production (bbl)']))) + min_radius\n",
    "    return data_well"
   ]
  },
  {
   "cell_type": "code",
   "execution_count": 10,
   "metadata": {
    "id": "6gGtUMW0F0v_"
   },
   "outputs": [],
   "source": [
    "wd = influenceRadius(p3[p3['Production (bbl)']!=0])\n",
    "ed = de"
   ]
  },
  {
   "cell_type": "code",
   "execution_count": 11,
   "metadata": {
    "id": "u9o5cK-i0C-2"
   },
   "outputs": [],
   "source": [
    "def distance_data(data_well, lat_earthquake, lon_earthquake):\n",
    "    r = 6371\n",
    "    i1 = (data_well['Latitude'] / 180) * math.pi\n",
    "    j1 = (data_well['Longitude'] / 180) * math.pi\n",
    "    i2 = (lat_earthquake / 180) * math.pi\n",
    "    j2 = (lon_earthquake / 180) * math.pi\n",
    "    data_well['distance'] = 2 * r * ((((( data_well['Latitude'] / 180 * math.pi - lat_earthquake / 180 * math.pi )  / 2).apply(math.sin)) ** 2 + math.cos((lat_earthquake / 180) * math.pi) * ((data_well['Latitude'] / 180) * math.pi).apply(math.cos) * ((((data_well['Longitude'] / 180) * math.pi - (lon_earthquake / 180) * math.pi) / 2).apply(math.sin)) ** 2).apply(math.sqrt)).apply(math.asin)\n",
    "    return data_well"
   ]
  },
  {
   "cell_type": "code",
   "execution_count": 12,
   "metadata": {
    "id": "af_x9bz_F4eE"
   },
   "outputs": [],
   "source": [
    "def labelEarthquake(data_well, data_earthquake):\n",
    "    influence_time = 12 * 5 #month\n",
    "    label_earthquake = []\n",
    "    for i in tqdm(data_earthquake[['Time', 'Latitude', 'Longitude']].values.tolist()):\n",
    "        dataSet = data_well[(data_well['Time'] < i[0]) & (data_well['Time'] >= (i[0] - influence_time))]\n",
    "        # label 0 means the earthquake is not influenced by injection or production\n",
    "        distance_data(dataSet, i[1], i[2])\n",
    "        if len(dataSet[dataSet['distance']<=dataSet['influence (km)']]) > 0:\n",
    "            label_earthquake.append(1)\n",
    "        else:\n",
    "            label_earthquake.append(0)\n",
    "        \n",
    "    return label_earthquake"
   ]
  },
  {
   "cell_type": "code",
   "execution_count": null,
   "metadata": {
    "colab": {
     "background_save": true,
     "base_uri": "https://localhost:8080/",
     "height": 49,
     "referenced_widgets": [
      "663730f4c89441d09733a45acdd12e1d",
      "71d025cbbcb640b8b36767c2268da131",
      "dd1f36c9895849dcb773a19ccb64dfc0",
      "cd7e9638a4424719a658d13e02a907de",
      "a34217018ddc4bd9b99bbfc4b9811832",
      "525f1d91555f4adf96e9a2629c142ebf",
      "9e15b96d79be4d729218efa36f47dce6",
      "b28c76fe7eae4be6bb30cdf5aa8b35e5",
      "d27b346b20a24b5abff0278bfc295f0a",
      "5a2ced762ad64b96a640a79c87879682",
      "ed776727ac98475ea6205b9f696e5fce"
     ]
    },
    "id": "eZVXqA9WF6UE",
    "outputId": "20e2337b-7f17-4c84-b75a-67375fe9f011",
    "tags": []
   },
   "outputs": [
    {
     "data": {
      "application/vnd.jupyter.widget-view+json": {
       "model_id": "1f18d9faffeb46c594241b55c8575280",
       "version_major": 2,
       "version_minor": 0
      },
      "text/plain": [
       "  0%|          | 0/809553 [00:00<?, ?it/s]"
      ]
     },
     "metadata": {},
     "output_type": "display_data"
    }
   ],
   "source": [
    "label_earthquake = labelEarthquake(wd, ed)"
   ]
  },
  {
   "cell_type": "code",
   "execution_count": null,
   "metadata": {
    "colab": {
     "background_save": true
    },
    "id": "YkV1CjE4luLE"
   },
   "outputs": [],
   "source": [
    "ed['label_earthquake'] = label_earthquake"
   ]
  },
  {
   "cell_type": "code",
   "execution_count": null,
   "metadata": {
    "colab": {
     "background_save": true
    },
    "id": "H6RNKq7EmJOT"
   },
   "outputs": [],
   "source": [
    "def getFeatureLabel1(data_well, data_earthquake):\n",
    "    influence_time = 12 * 5 #month\n",
    "    feature = []\n",
    "    for i in tqdm(data_well[['Time','Latitude','Longitude','influence (km)']].values.tolist()):\n",
    "        f = []\n",
    "        dataSet = data_earthquake[(data_earthquake['Time'] > i[0]) & (data_earthquake['Time'] <= (i[0] + influence_time))]\n",
    "        dataSet = distance_data(dataSet, i[1], i[2])\n",
    "        if len(dataSet[dataSet['distance']<=i[3]]) > 0:\n",
    "            #magnitude, depth, frequency, label\n",
    "            f.append(dataSet[dataSet['distance']<=i[3]]['Magnitude'].mean())\n",
    "            f.append(dataSet[dataSet['distance']<=i[3]]['Depth'].mean())\n",
    "            f.append(len(dataSet[dataSet['distance']<=i[3]]))\n",
    "            f.append(1)\n",
    "            feature.append(f)\n",
    "    return feature"
   ]
  },
  {
   "cell_type": "code",
   "execution_count": null,
   "metadata": {
    "colab": {
     "background_save": true
    },
    "id": "BsU01R0Hg1kL"
   },
   "outputs": [],
   "source": [
    "def getFeatureLabel0(data_earthquake, k):\n",
    "    feature = []\n",
    "    location = data_earthquake[['Latitude','Longitude']]\n",
    "    model = MiniBatchKMeans(n_clusters = k, random_state=9)\n",
    "    model.fit(location)\n",
    "    r = pd.concat([data_earthquake, pd.Series(model.labels_, index = location.index)], axis = 1)\n",
    "    for j in tqdm(set(list(model.labels_))):\n",
    "        f=[]\n",
    "        f.append(r[r[0] == j]['Magnitude'].mean())\n",
    "        f.append(r[r[0] == j]['Depth'].mean())\n",
    "        f.append(len(r[r[0] == j]))\n",
    "        f.append(0)\n",
    "        feature.append(f)\n",
    "\n",
    "    return feature"
   ]
  },
  {
   "cell_type": "code",
   "execution_count": null,
   "metadata": {
    "colab": {
     "base_uri": "https://localhost:8080/",
     "height": 348,
     "referenced_widgets": [
      "1a4fd9efe5e742858b6e704247deec8a",
      "65f90b2e3c384b01a700699e35549f5d",
      "a03551e6eebb49bdbedba1d129bc078c",
      "b41a07ffb2684bfe8df495976d0b8b22",
      "8cb572e6574f4a96bf822ea2d84bf97e",
      "eaa2c681b910479cad5d8a2c1b4882ee",
      "17a46da16f9d4e618b40d907216c496f",
      "074a0c86c173432f9a7d7f12719d9b5d",
      "c4495d1e7d5943bbb4267bfebba99167",
      "d15c35b953654d27a7300f3c7944a6b5",
      "52d11c4cd2844feaa6d75411413c9317"
     ]
    },
    "id": "3hViy6sSmVZd",
    "outputId": "94864282-a594-44ae-bc89-78b5485ddd8b"
   },
   "outputs": [],
   "source": [
    "f1 = getFeatureLabel1(wd,ed[ed['label_earthquake']==1])"
   ]
  },
  {
   "cell_type": "code",
   "execution_count": null,
   "metadata": {
    "colab": {
     "base_uri": "https://localhost:8080/",
     "height": 49,
     "referenced_widgets": [
      "640ac782713d468ea2d8d891ace3d852",
      "e304fc28df2c48088d21ac64a6140ecc",
      "9ebd963c363e4c0aac3fb1942cddd194",
      "481ec852e08c4666b1ba24588ba70d6e",
      "db62b09b2287434d9ed9e68a05b9a792",
      "3e09672dd57d4f9f838aeb277803d6f7",
      "2fb3a1d3bbff46519f9c6befb68edf5e",
      "7d883ee0634244dba41db302887890d4",
      "048b86b3ea7045449d981dd1b290e8f0",
      "7c400432098347a190c0efb3181771f0",
      "61d71e1dded74c4ab355c7a152236317"
     ]
    },
    "id": "HN-pQzlqMmTI",
    "outputId": "58766085-d3bd-43b7-b323-1a0745a50781"
   },
   "outputs": [],
   "source": [
    "f0 = getFeatureLabel0(ed[ed['label_earthquake']==0], 30000)"
   ]
  },
  {
   "cell_type": "code",
   "execution_count": null,
   "metadata": {
    "id": "kYFU3LNB0pT-"
   },
   "outputs": [],
   "source": [
    "feature = f1 + f0"
   ]
  },
  {
   "cell_type": "code",
   "execution_count": null,
   "metadata": {
    "id": "Ny-s1jSUcO_0"
   },
   "outputs": [],
   "source": [
    "featureSet = pd.DataFrame(feature).dropna(axis=0)"
   ]
  },
  {
   "cell_type": "code",
   "execution_count": null,
   "metadata": {
    "id": "S-x8LonYgtQb"
   },
   "outputs": [],
   "source": [
    "from collections import Counter\n",
    "\n",
    "from sklearn.metrics import r2_score\n",
    "from sklearn.ensemble import RandomForestRegressor\n",
    "from sklearn.model_selection import train_test_split\n",
    "\n",
    "import seaborn as sns"
   ]
  },
  {
   "cell_type": "code",
   "execution_count": null,
   "metadata": {
    "id": "SfOENfyun7r-"
   },
   "outputs": [],
   "source": [
    "x = np.array(np.array(featureSet)[0:, :-1], dtype='float')\n",
    "y = np.array(np.array(featureSet)[0:, -1], dtype='int')"
   ]
  },
  {
   "cell_type": "code",
   "execution_count": null,
   "metadata": {
    "colab": {
     "base_uri": "https://localhost:8080/",
     "height": 0
    },
    "id": "YUi165ejn-zQ",
    "outputId": "5f2db112-910b-4ac8-b639-9a044d75f10e"
   },
   "outputs": [],
   "source": [
    "Counter(y)"
   ]
  },
  {
   "cell_type": "code",
   "execution_count": null,
   "metadata": {
    "id": "Vhy7rvR2EUpg"
   },
   "outputs": [],
   "source": [
    "train_x,test_x,train_y,test_y = train_test_split(x,y,test_size=0.75,random_state=9)"
   ]
  },
  {
   "cell_type": "code",
   "execution_count": null,
   "metadata": {
    "colab": {
     "base_uri": "https://localhost:8080/",
     "height": 0
    },
    "id": "o_eNJnC-oDcx",
    "outputId": "91845bc1-5f63-4f19-8a45-506471d50a7b"
   },
   "outputs": [],
   "source": [
    "model = RandomForestRegressor(n_estimators=1000, min_samples_split=2,random_state=9)\n",
    "model.fit(train_x, train_y)"
   ]
  },
  {
   "cell_type": "code",
   "execution_count": null,
   "metadata": {
    "id": "av2SLLb5oDf1"
   },
   "outputs": [],
   "source": [
    "pred_test_y = model.predict(test_x)"
   ]
  },
  {
   "cell_type": "code",
   "execution_count": null,
   "metadata": {
    "colab": {
     "base_uri": "https://localhost:8080/",
     "height": 0
    },
    "id": "28NsBB1HoGyj",
    "outputId": "f9b772f7-9746-464d-be25-9c5ccd705d3e"
   },
   "outputs": [],
   "source": [
    "print(r2_score(test_y, pred_test_y))"
   ]
  },
  {
   "cell_type": "code",
   "execution_count": null,
   "metadata": {
    "id": "1wijNn0G08pH"
   },
   "outputs": [],
   "source": [
    "corr = pd.DataFrame(x, columns=['magnitude', 'depth', 'frequency']).corr()"
   ]
  },
  {
   "cell_type": "code",
   "execution_count": null,
   "metadata": {
    "colab": {
     "base_uri": "https://localhost:8080/",
     "height": 286
    },
    "id": "U1PpcKjG8Qt-",
    "outputId": "5df4cc30-f9cb-4509-d435-a9e8550e2d01"
   },
   "outputs": [],
   "source": [
    "sns.heatmap(corr,cmap='Blues',annot=True)\n",
    "#plt.title(\"test\")\n",
    "plt.savefig(\"1.png\", transparent=True)"
   ]
  },
  {
   "cell_type": "code",
   "execution_count": null,
   "metadata": {
    "id": "2JxMJ0e6RCno",
    "tags": []
   },
   "outputs": [],
   "source": [
    "help(plt.savefig)"
   ]
  },
  {
   "cell_type": "code",
   "execution_count": null,
   "metadata": {},
   "outputs": [],
   "source": []
  }
 ],
 "metadata": {
  "colab": {
   "collapsed_sections": [],
   "machine_shape": "hm",
   "name": "test.ipynb",
   "provenance": []
  },
  "kernelspec": {
   "display_name": "Python 3 (ipykernel)",
   "language": "python",
   "name": "python3"
  },
  "language_info": {
   "codemirror_mode": {
    "name": "ipython",
    "version": 3
   },
   "file_extension": ".py",
   "mimetype": "text/x-python",
   "name": "python",
   "nbconvert_exporter": "python",
   "pygments_lexer": "ipython3",
   "version": "3.8.12"
  },
  "widgets": {
   "application/vnd.jupyter.widget-state+json": {
    "048b86b3ea7045449d981dd1b290e8f0": {
     "model_module": "@jupyter-widgets/base",
     "model_module_version": "1.2.0",
     "model_name": "LayoutModel",
     "state": {
      "_model_module": "@jupyter-widgets/base",
      "_model_module_version": "1.2.0",
      "_model_name": "LayoutModel",
      "_view_count": null,
      "_view_module": "@jupyter-widgets/base",
      "_view_module_version": "1.2.0",
      "_view_name": "LayoutView",
      "align_content": null,
      "align_items": null,
      "align_self": null,
      "border": null,
      "bottom": null,
      "display": null,
      "flex": null,
      "flex_flow": null,
      "grid_area": null,
      "grid_auto_columns": null,
      "grid_auto_flow": null,
      "grid_auto_rows": null,
      "grid_column": null,
      "grid_gap": null,
      "grid_row": null,
      "grid_template_areas": null,
      "grid_template_columns": null,
      "grid_template_rows": null,
      "height": null,
      "justify_content": null,
      "justify_items": null,
      "left": null,
      "margin": null,
      "max_height": null,
      "max_width": null,
      "min_height": null,
      "min_width": null,
      "object_fit": null,
      "object_position": null,
      "order": null,
      "overflow": null,
      "overflow_x": null,
      "overflow_y": null,
      "padding": null,
      "right": null,
      "top": null,
      "visibility": null,
      "width": null
     }
    },
    "074a0c86c173432f9a7d7f12719d9b5d": {
     "model_module": "@jupyter-widgets/controls",
     "model_module_version": "1.5.0",
     "model_name": "ProgressStyleModel",
     "state": {
      "_model_module": "@jupyter-widgets/controls",
      "_model_module_version": "1.5.0",
      "_model_name": "ProgressStyleModel",
      "_view_count": null,
      "_view_module": "@jupyter-widgets/base",
      "_view_module_version": "1.2.0",
      "_view_name": "StyleView",
      "bar_color": null,
      "description_width": ""
     }
    },
    "07cdfe4d1a414ba8a74392dadb2e0f96": {
     "model_module": "@jupyter-widgets/controls",
     "model_module_version": "1.5.0",
     "model_name": "HTMLModel",
     "state": {
      "_dom_classes": [],
      "_model_module": "@jupyter-widgets/controls",
      "_model_module_version": "1.5.0",
      "_model_name": "HTMLModel",
      "_view_count": null,
      "_view_module": "@jupyter-widgets/controls",
      "_view_module_version": "1.5.0",
      "_view_name": "HTMLView",
      "description": "",
      "description_tooltip": null,
      "layout": "IPY_MODEL_bac6f8bd79df465db1923ba94c36520d",
      "placeholder": "​",
      "style": "IPY_MODEL_1594806160a8497397a44ac78ac33c0b",
      "value": "100%"
     }
    },
    "1594806160a8497397a44ac78ac33c0b": {
     "model_module": "@jupyter-widgets/controls",
     "model_module_version": "1.5.0",
     "model_name": "DescriptionStyleModel",
     "state": {
      "_model_module": "@jupyter-widgets/controls",
      "_model_module_version": "1.5.0",
      "_model_name": "DescriptionStyleModel",
      "_view_count": null,
      "_view_module": "@jupyter-widgets/base",
      "_view_module_version": "1.2.0",
      "_view_name": "StyleView",
      "description_width": ""
     }
    },
    "17a46da16f9d4e618b40d907216c496f": {
     "model_module": "@jupyter-widgets/base",
     "model_module_version": "1.2.0",
     "model_name": "LayoutModel",
     "state": {
      "_model_module": "@jupyter-widgets/base",
      "_model_module_version": "1.2.0",
      "_model_name": "LayoutModel",
      "_view_count": null,
      "_view_module": "@jupyter-widgets/base",
      "_view_module_version": "1.2.0",
      "_view_name": "LayoutView",
      "align_content": null,
      "align_items": null,
      "align_self": null,
      "border": null,
      "bottom": null,
      "display": null,
      "flex": null,
      "flex_flow": null,
      "grid_area": null,
      "grid_auto_columns": null,
      "grid_auto_flow": null,
      "grid_auto_rows": null,
      "grid_column": null,
      "grid_gap": null,
      "grid_row": null,
      "grid_template_areas": null,
      "grid_template_columns": null,
      "grid_template_rows": null,
      "height": null,
      "justify_content": null,
      "justify_items": null,
      "left": null,
      "margin": null,
      "max_height": null,
      "max_width": null,
      "min_height": null,
      "min_width": null,
      "object_fit": null,
      "object_position": null,
      "order": null,
      "overflow": null,
      "overflow_x": null,
      "overflow_y": null,
      "padding": null,
      "right": null,
      "top": null,
      "visibility": null,
      "width": null
     }
    },
    "1a4fd9efe5e742858b6e704247deec8a": {
     "model_module": "@jupyter-widgets/controls",
     "model_module_version": "1.5.0",
     "model_name": "HBoxModel",
     "state": {
      "_dom_classes": [],
      "_model_module": "@jupyter-widgets/controls",
      "_model_module_version": "1.5.0",
      "_model_name": "HBoxModel",
      "_view_count": null,
      "_view_module": "@jupyter-widgets/controls",
      "_view_module_version": "1.5.0",
      "_view_name": "HBoxView",
      "box_style": "",
      "children": [
       "IPY_MODEL_a03551e6eebb49bdbedba1d129bc078c",
       "IPY_MODEL_b41a07ffb2684bfe8df495976d0b8b22",
       "IPY_MODEL_8cb572e6574f4a96bf822ea2d84bf97e"
      ],
      "layout": "IPY_MODEL_65f90b2e3c384b01a700699e35549f5d"
     }
    },
    "2fb3a1d3bbff46519f9c6befb68edf5e": {
     "model_module": "@jupyter-widgets/base",
     "model_module_version": "1.2.0",
     "model_name": "LayoutModel",
     "state": {
      "_model_module": "@jupyter-widgets/base",
      "_model_module_version": "1.2.0",
      "_model_name": "LayoutModel",
      "_view_count": null,
      "_view_module": "@jupyter-widgets/base",
      "_view_module_version": "1.2.0",
      "_view_name": "LayoutView",
      "align_content": null,
      "align_items": null,
      "align_self": null,
      "border": null,
      "bottom": null,
      "display": null,
      "flex": null,
      "flex_flow": null,
      "grid_area": null,
      "grid_auto_columns": null,
      "grid_auto_flow": null,
      "grid_auto_rows": null,
      "grid_column": null,
      "grid_gap": null,
      "grid_row": null,
      "grid_template_areas": null,
      "grid_template_columns": null,
      "grid_template_rows": null,
      "height": null,
      "justify_content": null,
      "justify_items": null,
      "left": null,
      "margin": null,
      "max_height": null,
      "max_width": null,
      "min_height": null,
      "min_width": null,
      "object_fit": null,
      "object_position": null,
      "order": null,
      "overflow": null,
      "overflow_x": null,
      "overflow_y": null,
      "padding": null,
      "right": null,
      "top": null,
      "visibility": null,
      "width": null
     }
    },
    "3490d923c8ab4dd3ad479511b519fdc5": {
     "model_module": "@jupyter-widgets/base",
     "model_module_version": "1.2.0",
     "model_name": "LayoutModel",
     "state": {
      "_model_module": "@jupyter-widgets/base",
      "_model_module_version": "1.2.0",
      "_model_name": "LayoutModel",
      "_view_count": null,
      "_view_module": "@jupyter-widgets/base",
      "_view_module_version": "1.2.0",
      "_view_name": "LayoutView",
      "align_content": null,
      "align_items": null,
      "align_self": null,
      "border": null,
      "bottom": null,
      "display": null,
      "flex": null,
      "flex_flow": null,
      "grid_area": null,
      "grid_auto_columns": null,
      "grid_auto_flow": null,
      "grid_auto_rows": null,
      "grid_column": null,
      "grid_gap": null,
      "grid_row": null,
      "grid_template_areas": null,
      "grid_template_columns": null,
      "grid_template_rows": null,
      "height": null,
      "justify_content": null,
      "justify_items": null,
      "left": null,
      "margin": null,
      "max_height": null,
      "max_width": null,
      "min_height": null,
      "min_width": null,
      "object_fit": null,
      "object_position": null,
      "order": null,
      "overflow": null,
      "overflow_x": null,
      "overflow_y": null,
      "padding": null,
      "right": null,
      "top": null,
      "visibility": null,
      "width": null
     }
    },
    "3e09672dd57d4f9f838aeb277803d6f7": {
     "model_module": "@jupyter-widgets/controls",
     "model_module_version": "1.5.0",
     "model_name": "DescriptionStyleModel",
     "state": {
      "_model_module": "@jupyter-widgets/controls",
      "_model_module_version": "1.5.0",
      "_model_name": "DescriptionStyleModel",
      "_view_count": null,
      "_view_module": "@jupyter-widgets/base",
      "_view_module_version": "1.2.0",
      "_view_name": "StyleView",
      "description_width": ""
     }
    },
    "481ec852e08c4666b1ba24588ba70d6e": {
     "model_module": "@jupyter-widgets/controls",
     "model_module_version": "1.5.0",
     "model_name": "FloatProgressModel",
     "state": {
      "_dom_classes": [],
      "_model_module": "@jupyter-widgets/controls",
      "_model_module_version": "1.5.0",
      "_model_name": "FloatProgressModel",
      "_view_count": null,
      "_view_module": "@jupyter-widgets/controls",
      "_view_module_version": "1.5.0",
      "_view_name": "ProgressView",
      "bar_style": "success",
      "description": "",
      "description_tooltip": null,
      "layout": "IPY_MODEL_048b86b3ea7045449d981dd1b290e8f0",
      "max": 27439,
      "min": 0,
      "orientation": "horizontal",
      "style": "IPY_MODEL_7d883ee0634244dba41db302887890d4",
      "value": 27439
     }
    },
    "525f1d91555f4adf96e9a2629c142ebf": {
     "model_module": "@jupyter-widgets/base",
     "model_module_version": "1.2.0",
     "model_name": "LayoutModel",
     "state": {
      "_model_module": "@jupyter-widgets/base",
      "_model_module_version": "1.2.0",
      "_model_name": "LayoutModel",
      "_view_count": null,
      "_view_module": "@jupyter-widgets/base",
      "_view_module_version": "1.2.0",
      "_view_name": "LayoutView",
      "align_content": null,
      "align_items": null,
      "align_self": null,
      "border": null,
      "bottom": null,
      "display": null,
      "flex": null,
      "flex_flow": null,
      "grid_area": null,
      "grid_auto_columns": null,
      "grid_auto_flow": null,
      "grid_auto_rows": null,
      "grid_column": null,
      "grid_gap": null,
      "grid_row": null,
      "grid_template_areas": null,
      "grid_template_columns": null,
      "grid_template_rows": null,
      "height": null,
      "justify_content": null,
      "justify_items": null,
      "left": null,
      "margin": null,
      "max_height": null,
      "max_width": null,
      "min_height": null,
      "min_width": null,
      "object_fit": null,
      "object_position": null,
      "order": null,
      "overflow": null,
      "overflow_x": null,
      "overflow_y": null,
      "padding": null,
      "right": null,
      "top": null,
      "visibility": null,
      "width": null
     }
    },
    "52d11c4cd2844feaa6d75411413c9317": {
     "model_module": "@jupyter-widgets/base",
     "model_module_version": "1.2.0",
     "model_name": "LayoutModel",
     "state": {
      "_model_module": "@jupyter-widgets/base",
      "_model_module_version": "1.2.0",
      "_model_name": "LayoutModel",
      "_view_count": null,
      "_view_module": "@jupyter-widgets/base",
      "_view_module_version": "1.2.0",
      "_view_name": "LayoutView",
      "align_content": null,
      "align_items": null,
      "align_self": null,
      "border": null,
      "bottom": null,
      "display": null,
      "flex": null,
      "flex_flow": null,
      "grid_area": null,
      "grid_auto_columns": null,
      "grid_auto_flow": null,
      "grid_auto_rows": null,
      "grid_column": null,
      "grid_gap": null,
      "grid_row": null,
      "grid_template_areas": null,
      "grid_template_columns": null,
      "grid_template_rows": null,
      "height": null,
      "justify_content": null,
      "justify_items": null,
      "left": null,
      "margin": null,
      "max_height": null,
      "max_width": null,
      "min_height": null,
      "min_width": null,
      "object_fit": null,
      "object_position": null,
      "order": null,
      "overflow": null,
      "overflow_x": null,
      "overflow_y": null,
      "padding": null,
      "right": null,
      "top": null,
      "visibility": null,
      "width": null
     }
    },
    "5a2ced762ad64b96a640a79c87879682": {
     "model_module": "@jupyter-widgets/base",
     "model_module_version": "1.2.0",
     "model_name": "LayoutModel",
     "state": {
      "_model_module": "@jupyter-widgets/base",
      "_model_module_version": "1.2.0",
      "_model_name": "LayoutModel",
      "_view_count": null,
      "_view_module": "@jupyter-widgets/base",
      "_view_module_version": "1.2.0",
      "_view_name": "LayoutView",
      "align_content": null,
      "align_items": null,
      "align_self": null,
      "border": null,
      "bottom": null,
      "display": null,
      "flex": null,
      "flex_flow": null,
      "grid_area": null,
      "grid_auto_columns": null,
      "grid_auto_flow": null,
      "grid_auto_rows": null,
      "grid_column": null,
      "grid_gap": null,
      "grid_row": null,
      "grid_template_areas": null,
      "grid_template_columns": null,
      "grid_template_rows": null,
      "height": null,
      "justify_content": null,
      "justify_items": null,
      "left": null,
      "margin": null,
      "max_height": null,
      "max_width": null,
      "min_height": null,
      "min_width": null,
      "object_fit": null,
      "object_position": null,
      "order": null,
      "overflow": null,
      "overflow_x": null,
      "overflow_y": null,
      "padding": null,
      "right": null,
      "top": null,
      "visibility": null,
      "width": null
     }
    },
    "60fbc5caddc444c5bbccfbc5ebd648d5": {
     "model_module": "@jupyter-widgets/controls",
     "model_module_version": "1.5.0",
     "model_name": "HBoxModel",
     "state": {
      "_dom_classes": [],
      "_model_module": "@jupyter-widgets/controls",
      "_model_module_version": "1.5.0",
      "_model_name": "HBoxModel",
      "_view_count": null,
      "_view_module": "@jupyter-widgets/controls",
      "_view_module_version": "1.5.0",
      "_view_name": "HBoxView",
      "box_style": "",
      "children": [
       "IPY_MODEL_07cdfe4d1a414ba8a74392dadb2e0f96",
       "IPY_MODEL_db8fd8c17d6d449f96e8998aab231518",
       "IPY_MODEL_b8b8ff28f0004a71ac001287d00eee6a"
      ],
      "layout": "IPY_MODEL_3490d923c8ab4dd3ad479511b519fdc5"
     }
    },
    "61d71e1dded74c4ab355c7a152236317": {
     "model_module": "@jupyter-widgets/base",
     "model_module_version": "1.2.0",
     "model_name": "LayoutModel",
     "state": {
      "_model_module": "@jupyter-widgets/base",
      "_model_module_version": "1.2.0",
      "_model_name": "LayoutModel",
      "_view_count": null,
      "_view_module": "@jupyter-widgets/base",
      "_view_module_version": "1.2.0",
      "_view_name": "LayoutView",
      "align_content": null,
      "align_items": null,
      "align_self": null,
      "border": null,
      "bottom": null,
      "display": null,
      "flex": null,
      "flex_flow": null,
      "grid_area": null,
      "grid_auto_columns": null,
      "grid_auto_flow": null,
      "grid_auto_rows": null,
      "grid_column": null,
      "grid_gap": null,
      "grid_row": null,
      "grid_template_areas": null,
      "grid_template_columns": null,
      "grid_template_rows": null,
      "height": null,
      "justify_content": null,
      "justify_items": null,
      "left": null,
      "margin": null,
      "max_height": null,
      "max_width": null,
      "min_height": null,
      "min_width": null,
      "object_fit": null,
      "object_position": null,
      "order": null,
      "overflow": null,
      "overflow_x": null,
      "overflow_y": null,
      "padding": null,
      "right": null,
      "top": null,
      "visibility": null,
      "width": null
     }
    },
    "640ac782713d468ea2d8d891ace3d852": {
     "model_module": "@jupyter-widgets/controls",
     "model_module_version": "1.5.0",
     "model_name": "HBoxModel",
     "state": {
      "_dom_classes": [],
      "_model_module": "@jupyter-widgets/controls",
      "_model_module_version": "1.5.0",
      "_model_name": "HBoxModel",
      "_view_count": null,
      "_view_module": "@jupyter-widgets/controls",
      "_view_module_version": "1.5.0",
      "_view_name": "HBoxView",
      "box_style": "",
      "children": [
       "IPY_MODEL_9ebd963c363e4c0aac3fb1942cddd194",
       "IPY_MODEL_481ec852e08c4666b1ba24588ba70d6e",
       "IPY_MODEL_db62b09b2287434d9ed9e68a05b9a792"
      ],
      "layout": "IPY_MODEL_e304fc28df2c48088d21ac64a6140ecc"
     }
    },
    "65f90b2e3c384b01a700699e35549f5d": {
     "model_module": "@jupyter-widgets/base",
     "model_module_version": "1.2.0",
     "model_name": "LayoutModel",
     "state": {
      "_model_module": "@jupyter-widgets/base",
      "_model_module_version": "1.2.0",
      "_model_name": "LayoutModel",
      "_view_count": null,
      "_view_module": "@jupyter-widgets/base",
      "_view_module_version": "1.2.0",
      "_view_name": "LayoutView",
      "align_content": null,
      "align_items": null,
      "align_self": null,
      "border": null,
      "bottom": null,
      "display": null,
      "flex": null,
      "flex_flow": null,
      "grid_area": null,
      "grid_auto_columns": null,
      "grid_auto_flow": null,
      "grid_auto_rows": null,
      "grid_column": null,
      "grid_gap": null,
      "grid_row": null,
      "grid_template_areas": null,
      "grid_template_columns": null,
      "grid_template_rows": null,
      "height": null,
      "justify_content": null,
      "justify_items": null,
      "left": null,
      "margin": null,
      "max_height": null,
      "max_width": null,
      "min_height": null,
      "min_width": null,
      "object_fit": null,
      "object_position": null,
      "order": null,
      "overflow": null,
      "overflow_x": null,
      "overflow_y": null,
      "padding": null,
      "right": null,
      "top": null,
      "visibility": null,
      "width": null
     }
    },
    "663730f4c89441d09733a45acdd12e1d": {
     "model_module": "@jupyter-widgets/controls",
     "model_module_version": "1.5.0",
     "model_name": "HBoxModel",
     "state": {
      "_dom_classes": [],
      "_model_module": "@jupyter-widgets/controls",
      "_model_module_version": "1.5.0",
      "_model_name": "HBoxModel",
      "_view_count": null,
      "_view_module": "@jupyter-widgets/controls",
      "_view_module_version": "1.5.0",
      "_view_name": "HBoxView",
      "box_style": "",
      "children": [
       "IPY_MODEL_71d025cbbcb640b8b36767c2268da131",
       "IPY_MODEL_dd1f36c9895849dcb773a19ccb64dfc0",
       "IPY_MODEL_cd7e9638a4424719a658d13e02a907de"
      ],
      "layout": "IPY_MODEL_a34217018ddc4bd9b99bbfc4b9811832"
     }
    },
    "71d025cbbcb640b8b36767c2268da131": {
     "model_module": "@jupyter-widgets/controls",
     "model_module_version": "1.5.0",
     "model_name": "HTMLModel",
     "state": {
      "_dom_classes": [],
      "_model_module": "@jupyter-widgets/controls",
      "_model_module_version": "1.5.0",
      "_model_name": "HTMLModel",
      "_view_count": null,
      "_view_module": "@jupyter-widgets/controls",
      "_view_module_version": "1.5.0",
      "_view_name": "HTMLView",
      "description": "",
      "description_tooltip": null,
      "layout": "IPY_MODEL_525f1d91555f4adf96e9a2629c142ebf",
      "placeholder": "​",
      "style": "IPY_MODEL_9e15b96d79be4d729218efa36f47dce6",
      "value": "100%"
     }
    },
    "7c400432098347a190c0efb3181771f0": {
     "model_module": "@jupyter-widgets/controls",
     "model_module_version": "1.5.0",
     "model_name": "DescriptionStyleModel",
     "state": {
      "_model_module": "@jupyter-widgets/controls",
      "_model_module_version": "1.5.0",
      "_model_name": "DescriptionStyleModel",
      "_view_count": null,
      "_view_module": "@jupyter-widgets/base",
      "_view_module_version": "1.2.0",
      "_view_name": "StyleView",
      "description_width": ""
     }
    },
    "7d883ee0634244dba41db302887890d4": {
     "model_module": "@jupyter-widgets/controls",
     "model_module_version": "1.5.0",
     "model_name": "ProgressStyleModel",
     "state": {
      "_model_module": "@jupyter-widgets/controls",
      "_model_module_version": "1.5.0",
      "_model_name": "ProgressStyleModel",
      "_view_count": null,
      "_view_module": "@jupyter-widgets/base",
      "_view_module_version": "1.2.0",
      "_view_name": "StyleView",
      "bar_color": null,
      "description_width": ""
     }
    },
    "8cb572e6574f4a96bf822ea2d84bf97e": {
     "model_module": "@jupyter-widgets/controls",
     "model_module_version": "1.5.0",
     "model_name": "HTMLModel",
     "state": {
      "_dom_classes": [],
      "_model_module": "@jupyter-widgets/controls",
      "_model_module_version": "1.5.0",
      "_model_name": "HTMLModel",
      "_view_count": null,
      "_view_module": "@jupyter-widgets/controls",
      "_view_module_version": "1.5.0",
      "_view_name": "HTMLView",
      "description": "",
      "description_tooltip": null,
      "layout": "IPY_MODEL_52d11c4cd2844feaa6d75411413c9317",
      "placeholder": "​",
      "style": "IPY_MODEL_d15c35b953654d27a7300f3c7944a6b5",
      "value": " 722/24034 [00:05&lt;02:50, 136.64it/s]"
     }
    },
    "9e15b96d79be4d729218efa36f47dce6": {
     "model_module": "@jupyter-widgets/controls",
     "model_module_version": "1.5.0",
     "model_name": "DescriptionStyleModel",
     "state": {
      "_model_module": "@jupyter-widgets/controls",
      "_model_module_version": "1.5.0",
      "_model_name": "DescriptionStyleModel",
      "_view_count": null,
      "_view_module": "@jupyter-widgets/base",
      "_view_module_version": "1.2.0",
      "_view_name": "StyleView",
      "description_width": ""
     }
    },
    "9ebd963c363e4c0aac3fb1942cddd194": {
     "model_module": "@jupyter-widgets/controls",
     "model_module_version": "1.5.0",
     "model_name": "HTMLModel",
     "state": {
      "_dom_classes": [],
      "_model_module": "@jupyter-widgets/controls",
      "_model_module_version": "1.5.0",
      "_model_name": "HTMLModel",
      "_view_count": null,
      "_view_module": "@jupyter-widgets/controls",
      "_view_module_version": "1.5.0",
      "_view_name": "HTMLView",
      "description": "",
      "description_tooltip": null,
      "layout": "IPY_MODEL_2fb3a1d3bbff46519f9c6befb68edf5e",
      "placeholder": "​",
      "style": "IPY_MODEL_3e09672dd57d4f9f838aeb277803d6f7",
      "value": "100%"
     }
    },
    "a03551e6eebb49bdbedba1d129bc078c": {
     "model_module": "@jupyter-widgets/controls",
     "model_module_version": "1.5.0",
     "model_name": "HTMLModel",
     "state": {
      "_dom_classes": [],
      "_model_module": "@jupyter-widgets/controls",
      "_model_module_version": "1.5.0",
      "_model_name": "HTMLModel",
      "_view_count": null,
      "_view_module": "@jupyter-widgets/controls",
      "_view_module_version": "1.5.0",
      "_view_name": "HTMLView",
      "description": "",
      "description_tooltip": null,
      "layout": "IPY_MODEL_17a46da16f9d4e618b40d907216c496f",
      "placeholder": "​",
      "style": "IPY_MODEL_eaa2c681b910479cad5d8a2c1b4882ee",
      "value": "  3%"
     }
    },
    "a34217018ddc4bd9b99bbfc4b9811832": {
     "model_module": "@jupyter-widgets/base",
     "model_module_version": "1.2.0",
     "model_name": "LayoutModel",
     "state": {
      "_model_module": "@jupyter-widgets/base",
      "_model_module_version": "1.2.0",
      "_model_name": "LayoutModel",
      "_view_count": null,
      "_view_module": "@jupyter-widgets/base",
      "_view_module_version": "1.2.0",
      "_view_name": "LayoutView",
      "align_content": null,
      "align_items": null,
      "align_self": null,
      "border": null,
      "bottom": null,
      "display": null,
      "flex": null,
      "flex_flow": null,
      "grid_area": null,
      "grid_auto_columns": null,
      "grid_auto_flow": null,
      "grid_auto_rows": null,
      "grid_column": null,
      "grid_gap": null,
      "grid_row": null,
      "grid_template_areas": null,
      "grid_template_columns": null,
      "grid_template_rows": null,
      "height": null,
      "justify_content": null,
      "justify_items": null,
      "left": null,
      "margin": null,
      "max_height": null,
      "max_width": null,
      "min_height": null,
      "min_width": null,
      "object_fit": null,
      "object_position": null,
      "order": null,
      "overflow": null,
      "overflow_x": null,
      "overflow_y": null,
      "padding": null,
      "right": null,
      "top": null,
      "visibility": null,
      "width": null
     }
    },
    "aef05d31b0ac407fa7e060da92a61577": {
     "model_module": "@jupyter-widgets/base",
     "model_module_version": "1.2.0",
     "model_name": "LayoutModel",
     "state": {
      "_model_module": "@jupyter-widgets/base",
      "_model_module_version": "1.2.0",
      "_model_name": "LayoutModel",
      "_view_count": null,
      "_view_module": "@jupyter-widgets/base",
      "_view_module_version": "1.2.0",
      "_view_name": "LayoutView",
      "align_content": null,
      "align_items": null,
      "align_self": null,
      "border": null,
      "bottom": null,
      "display": null,
      "flex": null,
      "flex_flow": null,
      "grid_area": null,
      "grid_auto_columns": null,
      "grid_auto_flow": null,
      "grid_auto_rows": null,
      "grid_column": null,
      "grid_gap": null,
      "grid_row": null,
      "grid_template_areas": null,
      "grid_template_columns": null,
      "grid_template_rows": null,
      "height": null,
      "justify_content": null,
      "justify_items": null,
      "left": null,
      "margin": null,
      "max_height": null,
      "max_width": null,
      "min_height": null,
      "min_width": null,
      "object_fit": null,
      "object_position": null,
      "order": null,
      "overflow": null,
      "overflow_x": null,
      "overflow_y": null,
      "padding": null,
      "right": null,
      "top": null,
      "visibility": null,
      "width": null
     }
    },
    "b28c76fe7eae4be6bb30cdf5aa8b35e5": {
     "model_module": "@jupyter-widgets/base",
     "model_module_version": "1.2.0",
     "model_name": "LayoutModel",
     "state": {
      "_model_module": "@jupyter-widgets/base",
      "_model_module_version": "1.2.0",
      "_model_name": "LayoutModel",
      "_view_count": null,
      "_view_module": "@jupyter-widgets/base",
      "_view_module_version": "1.2.0",
      "_view_name": "LayoutView",
      "align_content": null,
      "align_items": null,
      "align_self": null,
      "border": null,
      "bottom": null,
      "display": null,
      "flex": null,
      "flex_flow": null,
      "grid_area": null,
      "grid_auto_columns": null,
      "grid_auto_flow": null,
      "grid_auto_rows": null,
      "grid_column": null,
      "grid_gap": null,
      "grid_row": null,
      "grid_template_areas": null,
      "grid_template_columns": null,
      "grid_template_rows": null,
      "height": null,
      "justify_content": null,
      "justify_items": null,
      "left": null,
      "margin": null,
      "max_height": null,
      "max_width": null,
      "min_height": null,
      "min_width": null,
      "object_fit": null,
      "object_position": null,
      "order": null,
      "overflow": null,
      "overflow_x": null,
      "overflow_y": null,
      "padding": null,
      "right": null,
      "top": null,
      "visibility": null,
      "width": null
     }
    },
    "b41a07ffb2684bfe8df495976d0b8b22": {
     "model_module": "@jupyter-widgets/controls",
     "model_module_version": "1.5.0",
     "model_name": "FloatProgressModel",
     "state": {
      "_dom_classes": [],
      "_model_module": "@jupyter-widgets/controls",
      "_model_module_version": "1.5.0",
      "_model_name": "FloatProgressModel",
      "_view_count": null,
      "_view_module": "@jupyter-widgets/controls",
      "_view_module_version": "1.5.0",
      "_view_name": "ProgressView",
      "bar_style": "danger",
      "description": "",
      "description_tooltip": null,
      "layout": "IPY_MODEL_c4495d1e7d5943bbb4267bfebba99167",
      "max": 24034,
      "min": 0,
      "orientation": "horizontal",
      "style": "IPY_MODEL_074a0c86c173432f9a7d7f12719d9b5d",
      "value": 722
     }
    },
    "b8b8ff28f0004a71ac001287d00eee6a": {
     "model_module": "@jupyter-widgets/controls",
     "model_module_version": "1.5.0",
     "model_name": "HTMLModel",
     "state": {
      "_dom_classes": [],
      "_model_module": "@jupyter-widgets/controls",
      "_model_module_version": "1.5.0",
      "_model_name": "HTMLModel",
      "_view_count": null,
      "_view_module": "@jupyter-widgets/controls",
      "_view_module_version": "1.5.0",
      "_view_name": "HTMLView",
      "description": "",
      "description_tooltip": null,
      "layout": "IPY_MODEL_f6edc692af974ecb8a023862e24ecffb",
      "placeholder": "​",
      "style": "IPY_MODEL_ce32f05d04bc4a429958e7c3f478c16f",
      "value": " 50/50 [00:01&lt;00:00, 37.32it/s]"
     }
    },
    "bac6f8bd79df465db1923ba94c36520d": {
     "model_module": "@jupyter-widgets/base",
     "model_module_version": "1.2.0",
     "model_name": "LayoutModel",
     "state": {
      "_model_module": "@jupyter-widgets/base",
      "_model_module_version": "1.2.0",
      "_model_name": "LayoutModel",
      "_view_count": null,
      "_view_module": "@jupyter-widgets/base",
      "_view_module_version": "1.2.0",
      "_view_name": "LayoutView",
      "align_content": null,
      "align_items": null,
      "align_self": null,
      "border": null,
      "bottom": null,
      "display": null,
      "flex": null,
      "flex_flow": null,
      "grid_area": null,
      "grid_auto_columns": null,
      "grid_auto_flow": null,
      "grid_auto_rows": null,
      "grid_column": null,
      "grid_gap": null,
      "grid_row": null,
      "grid_template_areas": null,
      "grid_template_columns": null,
      "grid_template_rows": null,
      "height": null,
      "justify_content": null,
      "justify_items": null,
      "left": null,
      "margin": null,
      "max_height": null,
      "max_width": null,
      "min_height": null,
      "min_width": null,
      "object_fit": null,
      "object_position": null,
      "order": null,
      "overflow": null,
      "overflow_x": null,
      "overflow_y": null,
      "padding": null,
      "right": null,
      "top": null,
      "visibility": null,
      "width": null
     }
    },
    "c4495d1e7d5943bbb4267bfebba99167": {
     "model_module": "@jupyter-widgets/base",
     "model_module_version": "1.2.0",
     "model_name": "LayoutModel",
     "state": {
      "_model_module": "@jupyter-widgets/base",
      "_model_module_version": "1.2.0",
      "_model_name": "LayoutModel",
      "_view_count": null,
      "_view_module": "@jupyter-widgets/base",
      "_view_module_version": "1.2.0",
      "_view_name": "LayoutView",
      "align_content": null,
      "align_items": null,
      "align_self": null,
      "border": null,
      "bottom": null,
      "display": null,
      "flex": null,
      "flex_flow": null,
      "grid_area": null,
      "grid_auto_columns": null,
      "grid_auto_flow": null,
      "grid_auto_rows": null,
      "grid_column": null,
      "grid_gap": null,
      "grid_row": null,
      "grid_template_areas": null,
      "grid_template_columns": null,
      "grid_template_rows": null,
      "height": null,
      "justify_content": null,
      "justify_items": null,
      "left": null,
      "margin": null,
      "max_height": null,
      "max_width": null,
      "min_height": null,
      "min_width": null,
      "object_fit": null,
      "object_position": null,
      "order": null,
      "overflow": null,
      "overflow_x": null,
      "overflow_y": null,
      "padding": null,
      "right": null,
      "top": null,
      "visibility": null,
      "width": null
     }
    },
    "cd7e9638a4424719a658d13e02a907de": {
     "model_module": "@jupyter-widgets/controls",
     "model_module_version": "1.5.0",
     "model_name": "HTMLModel",
     "state": {
      "_dom_classes": [],
      "_model_module": "@jupyter-widgets/controls",
      "_model_module_version": "1.5.0",
      "_model_name": "HTMLModel",
      "_view_count": null,
      "_view_module": "@jupyter-widgets/controls",
      "_view_module_version": "1.5.0",
      "_view_name": "HTMLView",
      "description": "",
      "description_tooltip": null,
      "layout": "IPY_MODEL_5a2ced762ad64b96a640a79c87879682",
      "placeholder": "​",
      "style": "IPY_MODEL_ed776727ac98475ea6205b9f696e5fce",
      "value": " 809553/809553 [2:19:57&lt;00:00, 113.60it/s]"
     }
    },
    "ce32f05d04bc4a429958e7c3f478c16f": {
     "model_module": "@jupyter-widgets/controls",
     "model_module_version": "1.5.0",
     "model_name": "DescriptionStyleModel",
     "state": {
      "_model_module": "@jupyter-widgets/controls",
      "_model_module_version": "1.5.0",
      "_model_name": "DescriptionStyleModel",
      "_view_count": null,
      "_view_module": "@jupyter-widgets/base",
      "_view_module_version": "1.2.0",
      "_view_name": "StyleView",
      "description_width": ""
     }
    },
    "d15c35b953654d27a7300f3c7944a6b5": {
     "model_module": "@jupyter-widgets/controls",
     "model_module_version": "1.5.0",
     "model_name": "DescriptionStyleModel",
     "state": {
      "_model_module": "@jupyter-widgets/controls",
      "_model_module_version": "1.5.0",
      "_model_name": "DescriptionStyleModel",
      "_view_count": null,
      "_view_module": "@jupyter-widgets/base",
      "_view_module_version": "1.2.0",
      "_view_name": "StyleView",
      "description_width": ""
     }
    },
    "d27b346b20a24b5abff0278bfc295f0a": {
     "model_module": "@jupyter-widgets/controls",
     "model_module_version": "1.5.0",
     "model_name": "ProgressStyleModel",
     "state": {
      "_model_module": "@jupyter-widgets/controls",
      "_model_module_version": "1.5.0",
      "_model_name": "ProgressStyleModel",
      "_view_count": null,
      "_view_module": "@jupyter-widgets/base",
      "_view_module_version": "1.2.0",
      "_view_name": "StyleView",
      "bar_color": null,
      "description_width": ""
     }
    },
    "db62b09b2287434d9ed9e68a05b9a792": {
     "model_module": "@jupyter-widgets/controls",
     "model_module_version": "1.5.0",
     "model_name": "HTMLModel",
     "state": {
      "_dom_classes": [],
      "_model_module": "@jupyter-widgets/controls",
      "_model_module_version": "1.5.0",
      "_model_name": "HTMLModel",
      "_view_count": null,
      "_view_module": "@jupyter-widgets/controls",
      "_view_module_version": "1.5.0",
      "_view_name": "HTMLView",
      "description": "",
      "description_tooltip": null,
      "layout": "IPY_MODEL_61d71e1dded74c4ab355c7a152236317",
      "placeholder": "​",
      "style": "IPY_MODEL_7c400432098347a190c0efb3181771f0",
      "value": " 27439/27439 [02:28&lt;00:00, 180.04it/s]"
     }
    },
    "db8fd8c17d6d449f96e8998aab231518": {
     "model_module": "@jupyter-widgets/controls",
     "model_module_version": "1.5.0",
     "model_name": "FloatProgressModel",
     "state": {
      "_dom_classes": [],
      "_model_module": "@jupyter-widgets/controls",
      "_model_module_version": "1.5.0",
      "_model_name": "FloatProgressModel",
      "_view_count": null,
      "_view_module": "@jupyter-widgets/controls",
      "_view_module_version": "1.5.0",
      "_view_name": "ProgressView",
      "bar_style": "success",
      "description": "",
      "description_tooltip": null,
      "layout": "IPY_MODEL_aef05d31b0ac407fa7e060da92a61577",
      "max": 50,
      "min": 0,
      "orientation": "horizontal",
      "style": "IPY_MODEL_e62e060fb952428498a0d85c635dcc96",
      "value": 50
     }
    },
    "dd1f36c9895849dcb773a19ccb64dfc0": {
     "model_module": "@jupyter-widgets/controls",
     "model_module_version": "1.5.0",
     "model_name": "FloatProgressModel",
     "state": {
      "_dom_classes": [],
      "_model_module": "@jupyter-widgets/controls",
      "_model_module_version": "1.5.0",
      "_model_name": "FloatProgressModel",
      "_view_count": null,
      "_view_module": "@jupyter-widgets/controls",
      "_view_module_version": "1.5.0",
      "_view_name": "ProgressView",
      "bar_style": "success",
      "description": "",
      "description_tooltip": null,
      "layout": "IPY_MODEL_b28c76fe7eae4be6bb30cdf5aa8b35e5",
      "max": 809553,
      "min": 0,
      "orientation": "horizontal",
      "style": "IPY_MODEL_d27b346b20a24b5abff0278bfc295f0a",
      "value": 809553
     }
    },
    "e304fc28df2c48088d21ac64a6140ecc": {
     "model_module": "@jupyter-widgets/base",
     "model_module_version": "1.2.0",
     "model_name": "LayoutModel",
     "state": {
      "_model_module": "@jupyter-widgets/base",
      "_model_module_version": "1.2.0",
      "_model_name": "LayoutModel",
      "_view_count": null,
      "_view_module": "@jupyter-widgets/base",
      "_view_module_version": "1.2.0",
      "_view_name": "LayoutView",
      "align_content": null,
      "align_items": null,
      "align_self": null,
      "border": null,
      "bottom": null,
      "display": null,
      "flex": null,
      "flex_flow": null,
      "grid_area": null,
      "grid_auto_columns": null,
      "grid_auto_flow": null,
      "grid_auto_rows": null,
      "grid_column": null,
      "grid_gap": null,
      "grid_row": null,
      "grid_template_areas": null,
      "grid_template_columns": null,
      "grid_template_rows": null,
      "height": null,
      "justify_content": null,
      "justify_items": null,
      "left": null,
      "margin": null,
      "max_height": null,
      "max_width": null,
      "min_height": null,
      "min_width": null,
      "object_fit": null,
      "object_position": null,
      "order": null,
      "overflow": null,
      "overflow_x": null,
      "overflow_y": null,
      "padding": null,
      "right": null,
      "top": null,
      "visibility": null,
      "width": null
     }
    },
    "e62e060fb952428498a0d85c635dcc96": {
     "model_module": "@jupyter-widgets/controls",
     "model_module_version": "1.5.0",
     "model_name": "ProgressStyleModel",
     "state": {
      "_model_module": "@jupyter-widgets/controls",
      "_model_module_version": "1.5.0",
      "_model_name": "ProgressStyleModel",
      "_view_count": null,
      "_view_module": "@jupyter-widgets/base",
      "_view_module_version": "1.2.0",
      "_view_name": "StyleView",
      "bar_color": null,
      "description_width": ""
     }
    },
    "eaa2c681b910479cad5d8a2c1b4882ee": {
     "model_module": "@jupyter-widgets/controls",
     "model_module_version": "1.5.0",
     "model_name": "DescriptionStyleModel",
     "state": {
      "_model_module": "@jupyter-widgets/controls",
      "_model_module_version": "1.5.0",
      "_model_name": "DescriptionStyleModel",
      "_view_count": null,
      "_view_module": "@jupyter-widgets/base",
      "_view_module_version": "1.2.0",
      "_view_name": "StyleView",
      "description_width": ""
     }
    },
    "ed776727ac98475ea6205b9f696e5fce": {
     "model_module": "@jupyter-widgets/controls",
     "model_module_version": "1.5.0",
     "model_name": "DescriptionStyleModel",
     "state": {
      "_model_module": "@jupyter-widgets/controls",
      "_model_module_version": "1.5.0",
      "_model_name": "DescriptionStyleModel",
      "_view_count": null,
      "_view_module": "@jupyter-widgets/base",
      "_view_module_version": "1.2.0",
      "_view_name": "StyleView",
      "description_width": ""
     }
    },
    "f6edc692af974ecb8a023862e24ecffb": {
     "model_module": "@jupyter-widgets/base",
     "model_module_version": "1.2.0",
     "model_name": "LayoutModel",
     "state": {
      "_model_module": "@jupyter-widgets/base",
      "_model_module_version": "1.2.0",
      "_model_name": "LayoutModel",
      "_view_count": null,
      "_view_module": "@jupyter-widgets/base",
      "_view_module_version": "1.2.0",
      "_view_name": "LayoutView",
      "align_content": null,
      "align_items": null,
      "align_self": null,
      "border": null,
      "bottom": null,
      "display": null,
      "flex": null,
      "flex_flow": null,
      "grid_area": null,
      "grid_auto_columns": null,
      "grid_auto_flow": null,
      "grid_auto_rows": null,
      "grid_column": null,
      "grid_gap": null,
      "grid_row": null,
      "grid_template_areas": null,
      "grid_template_columns": null,
      "grid_template_rows": null,
      "height": null,
      "justify_content": null,
      "justify_items": null,
      "left": null,
      "margin": null,
      "max_height": null,
      "max_width": null,
      "min_height": null,
      "min_width": null,
      "object_fit": null,
      "object_position": null,
      "order": null,
      "overflow": null,
      "overflow_x": null,
      "overflow_y": null,
      "padding": null,
      "right": null,
      "top": null,
      "visibility": null,
      "width": null
     }
    }
   }
  }
 },
 "nbformat": 4,
 "nbformat_minor": 4
}
